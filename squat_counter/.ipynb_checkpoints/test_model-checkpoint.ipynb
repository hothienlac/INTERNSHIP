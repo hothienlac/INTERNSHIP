{
 "cells": [
  {
   "cell_type": "code",
   "execution_count": 1,
   "id": "underlying-layout",
   "metadata": {},
   "outputs": [],
   "source": [
    "from util.video_util import  read_video, get_dimention,get_frame_rate\n",
    "from util.video_writer import VideoWriter\n",
    "from posenet.client import get_pose\n",
    "from tqdm import tqdm\n",
    "import numpy as np\n",
    "import cv2\n",
    "import threading\n",
    "import queue"
   ]
  },
  {
   "cell_type": "code",
   "execution_count": 2,
   "id": "royal-antigua",
   "metadata": {},
   "outputs": [],
   "source": [
    "from tensorflow import keras\n",
    "model = keras.models.load_model('./models')"
   ]
  },
  {
   "cell_type": "code",
   "execution_count": 3,
   "id": "preceding-classics",
   "metadata": {},
   "outputs": [],
   "source": [
    "input = 'C:\\\\Users\\\\hothi\\\\Documents\\\\CODE\\\\INTERNSHIP\\\\squat_counter\\\\data\\\\khoi\\\\1.standup5times.webm'\n",
    "output = 'C:\\\\Users\\\\hothi\\\\Documents\\\\CODE\\\\INTERNSHIP\\\\squat_counter\\\\data\\\\khoi\\\\1.standup5times_predict.mp4'"
   ]
  },
  {
   "cell_type": "code",
   "execution_count": null,
   "id": "educational-asian",
   "metadata": {},
   "outputs": [],
   "source": []
  },
  {
   "cell_type": "code",
   "execution_count": null,
   "id": "moving-curve",
   "metadata": {},
   "outputs": [],
   "source": []
  },
  {
   "cell_type": "code",
   "execution_count": null,
   "id": "therapeutic-ladder",
   "metadata": {},
   "outputs": [],
   "source": []
  },
  {
   "cell_type": "code",
   "execution_count": 4,
   "id": "constant-moment",
   "metadata": {},
   "outputs": [
    {
     "name": "stdout",
     "output_type": "stream",
     "text": [
      "(1920, 1080)\n",
      "1000.0\n"
     ]
    }
   ],
   "source": [
    "fps = get_frame_rate(input)\n",
    "dimention = get_dimention(input)\n",
    "video_writer = VideoWriter(output, fps, dimention)"
   ]
  },
  {
   "cell_type": "code",
   "execution_count": 5,
   "id": "numerical-boards",
   "metadata": {},
   "outputs": [],
   "source": [
    "from multi_threading.worker import Worker\n",
    "from multi_threading.multi_worker_handler import MultiWorkerHandler"
   ]
  },
  {
   "cell_type": "code",
   "execution_count": null,
   "id": "cooked-panel",
   "metadata": {},
   "outputs": [],
   "source": []
  },
  {
   "cell_type": "code",
   "execution_count": null,
   "id": "earlier-library",
   "metadata": {},
   "outputs": [],
   "source": []
  },
  {
   "cell_type": "code",
   "execution_count": null,
   "id": "organizational-fight",
   "metadata": {},
   "outputs": [],
   "source": []
  },
  {
   "cell_type": "code",
   "execution_count": 6,
   "id": "continuous-concert",
   "metadata": {},
   "outputs": [],
   "source": [
    "out_path = 'C:\\\\Users\\\\hothi\\\\Documents\\\\CODE\\\\INTERNSHIP\\\\squat_counter\\\\data\\\\khoi\\\\1.standup5times_predict\\\\'\n",
    "# handler = MultiWorkerHandler(lambda x: cv2.imwrite(f'{out_path}{x[0]}.jpg', x[1]))\n",
    "def debug(x):\n",
    "#     print(type(x))\n",
    "#     print()\n",
    "handler = MultiWorkerHandler(debug)"
   ]
  },
  {
   "cell_type": "code",
   "execution_count": 7,
   "id": "healthy-dictionary",
   "metadata": {},
   "outputs": [],
   "source": [
    "def process_frame(args):\n",
    "    print(args)\n",
    "    count, frame = args\n",
    "    pose = get_pose(frame)\n",
    "    features = pose.get_normalized_position()\n",
    "    position = model.predict(np.array([features]))\n",
    "    \n",
    "    font = cv2.FONT_HERSHEY_SIMPLEX\n",
    "    cv2.putText(frame, str(position[0]), (100,100), font, 3, (0, 255, 0), 2, cv2.LINE_AA)\n",
    "    \n",
    "    handler.add_to_queue((count, frame))"
   ]
  },
  {
   "cell_type": "code",
   "execution_count": 8,
   "id": "described-temperature",
   "metadata": {},
   "outputs": [],
   "source": [
    "def video_generator_with_frame_index(video):\n",
    "    for i, frame in enumerate(video):\n",
    "        yield (i, frame)\n",
    "\n",
    "def job_generator():\n",
    "    video_with_frame_index = video_generator_with_frame_index(read_video(input))\n",
    "    for job in video_with_frame_index:\n",
    "        yield [process_frame, job]\n",
    "\n",
    "# class job_generator:\n",
    "#     def __init__(self):\n",
    "#         self.video_with_frame_index = video_generator_with_frame_index(read_video(input))\n",
    "    \n",
    "#     def __next__(self):\n",
    "#         try:\n",
    "#             job = self.video_with_frame_index.__next__()\n",
    "#             return [process_frame, job]\n",
    "#         except StopIteration:\n",
    "#             raise StopIteration"
   ]
  },
  {
   "cell_type": "code",
   "execution_count": 9,
   "id": "healthy-nerve",
   "metadata": {},
   "outputs": [
    {
     "name": "stderr",
     "output_type": "stream",
     "text": [
      "Exception in thread Thread-6:\n",
      "Traceback (most recent call last):\n",
      "  File \"c:\\users\\hothi\\appdata\\local\\programs\\python\\python38\\lib\\threading.py\", line 932, in _bootstrap_inner\n",
      "    self.run()\n",
      "  File \"C:\\Users\\hothi\\Documents\\CODE\\INTERNSHIP\\squat_counter\\multi_threading\\worker.py\", line 15, in run\n",
      "    work[0](work[1:])\n",
      "  File \"<ipython-input-7-b574d42d1a69>\", line 2, in process_frame\n",
      "ValueError: not enough values to unpack (expected 2, got 1)\n",
      "Exception in thread Thread-7:\n",
      "Traceback (most recent call last):\n",
      "  File \"c:\\users\\hothi\\appdata\\local\\programs\\python\\python38\\lib\\threading.py\", line 932, in _bootstrap_inner\n",
      "    self.run()\n",
      "  File \"C:\\Users\\hothi\\Documents\\CODE\\INTERNSHIP\\squat_counter\\multi_threading\\worker.py\", line 15, in run\n",
      "Exception in thread Thread-8:\n",
      "Traceback (most recent call last):\n",
      "  File \"c:\\users\\hothi\\appdata\\local\\programs\\python\\python38\\lib\\threading.py\", line 932, in _bootstrap_inner\n",
      "    work[0](work[1:])\n",
      "  File \"<ipython-input-7-b574d42d1a69>\", line 2, in process_frame\n",
      "    self.run()\n",
      "  File \"C:\\Users\\hothi\\Documents\\CODE\\INTERNSHIP\\squat_counter\\multi_threading\\worker.py\", line 15, in run\n",
      "    work[0](work[1:])\n",
      "  File \"<ipython-input-7-b574d42d1a69>\", line 2, in process_frame\n",
      "Exception in thread Thread-9:\n",
      "Traceback (most recent call last):\n",
      "  File \"c:\\users\\hothi\\appdata\\local\\programs\\python\\python38\\lib\\threading.py\", line 932, in _bootstrap_inner\n",
      "ValueError: not enough values to unpack (expected 2, got 1)\n",
      "    ValueErrorself.run()\n",
      "  File \"C:\\Users\\hothi\\Documents\\CODE\\INTERNSHIP\\squat_counter\\multi_threading\\worker.py\", line 15, in run\n",
      ": not enough values to unpack (expected 2, got 1)\n",
      "    work[0](work[1:])\n",
      "  File \"<ipython-input-7-b574d42d1a69>\", line 2, in process_frame\n",
      "Exception in thread Thread-10:\n",
      "Traceback (most recent call last):\n",
      "  File \"c:\\users\\hothi\\appdata\\local\\programs\\python\\python38\\lib\\threading.py\", line 932, in _bootstrap_inner\n",
      "ValueError    : not enough values to unpack (expected 2, got 1)\n",
      "self.run()\n",
      "  File \"C:\\Users\\hothi\\Documents\\CODE\\INTERNSHIP\\squat_counter\\multi_threading\\worker.py\", line 15, in run\n",
      "    work[0](work[1:])\n",
      "  File \"<ipython-input-7-b574d42d1a69>\", line 2, in process_frame\n",
      "Exception in thread Thread-11:\n",
      "Traceback (most recent call last):\n",
      "  File \"c:\\users\\hothi\\appdata\\local\\programs\\python\\python38\\lib\\threading.py\", line 932, in _bootstrap_inner\n",
      "    ValueErrorself.run()\n",
      "  File \"C:\\Users\\hothi\\Documents\\CODE\\INTERNSHIP\\squat_counter\\multi_threading\\worker.py\", line 15, in run\n",
      ": not enough values to unpack (expected 2, got 1)\n",
      "Exception in thread Thread-12:\n",
      "    Traceback (most recent call last):\n",
      "  File \"c:\\users\\hothi\\appdata\\local\\programs\\python\\python38\\lib\\threading.py\", line 932, in _bootstrap_inner\n",
      "work[0](work[1:])\n",
      "  File \"<ipython-input-7-b574d42d1a69>\", line 2, in process_frame\n",
      "    self.run()\n",
      "  File \"C:\\Users\\hothi\\Documents\\CODE\\INTERNSHIP\\squat_counter\\multi_threading\\worker.py\", line 15, in run\n",
      "ValueError: not enough values to unpack (expected 2, got 1)\n",
      "    Exception in thread Thread-13:\n",
      "Traceback (most recent call last):\n",
      "  File \"c:\\users\\hothi\\appdata\\local\\programs\\python\\python38\\lib\\threading.py\", line 932, in _bootstrap_inner\n",
      "work[0](work[1:])\n",
      "  File \"<ipython-input-7-b574d42d1a69>\", line 2, in process_frame\n",
      "    self.run()\n",
      "  File \"C:\\Users\\hothi\\Documents\\CODE\\INTERNSHIP\\squat_counter\\multi_threading\\worker.py\", line 15, in run\n",
      "ValueError: not enough values to unpack (expected 2, got 1)\n",
      "    work[0](work[1:])\n",
      "  File \"<ipython-input-7-b574d42d1a69>\", line 2, in process_frame\n",
      "ValueError: not enough values to unpack (expected 2, got 1)\n",
      "Exception in thread Thread-14:\n",
      "Traceback (most recent call last):\n",
      "  File \"c:\\users\\hothi\\appdata\\local\\programs\\python\\python38\\lib\\threading.py\", line 932, in _bootstrap_inner\n",
      "    self.run()\n",
      "  File \"C:\\Users\\hothi\\Documents\\CODE\\INTERNSHIP\\squat_counter\\multi_threading\\worker.py\", line 15, in run\n",
      "    work[0](work[1:])\n",
      "  File \"<ipython-input-7-b574d42d1a69>\", line 2, in process_frame\n",
      "ValueError: not enough values to unpack (expected 2, got 1)\n",
      "Exception in thread Thread-15:\n",
      "Traceback (most recent call last):\n",
      "  File \"c:\\users\\hothi\\appdata\\local\\programs\\python\\python38\\lib\\threading.py\", line 932, in _bootstrap_inner\n",
      "    self.run()\n",
      "  File \"C:\\Users\\hothi\\Documents\\CODE\\INTERNSHIP\\squat_counter\\multi_threading\\worker.py\", line 15, in run\n",
      "    work[0](work[1:])\n",
      "  File \"<ipython-input-7-b574d42d1a69>\", line 2, in process_frame\n",
      "ValueError: not enough values to unpack (expected 2, got 1)\n",
      "Exception in thread Thread-16:\n",
      "Traceback (most recent call last):\n",
      "  File \"c:\\users\\hothi\\appdata\\local\\programs\\python\\python38\\lib\\threading.py\", line 932, in _bootstrap_inner\n",
      "    self.run()\n",
      "  File \"C:\\Users\\hothi\\Documents\\CODE\\INTERNSHIP\\squat_counter\\multi_threading\\worker.py\", line 15, in run\n",
      "    work[0](work[1:])\n",
      "  File \"<ipython-input-7-b574d42d1a69>\", line 2, in process_frame\n",
      "ValueError: not enough values to unpack (expected 2, got 1)\n",
      "Exception in thread Thread-17:\n",
      "Traceback (most recent call last):\n",
      "  File \"c:\\users\\hothi\\appdata\\local\\programs\\python\\python38\\lib\\threading.py\", line 932, in _bootstrap_inner\n",
      "    self.run()\n",
      "  File \"C:\\Users\\hothi\\Documents\\CODE\\INTERNSHIP\\squat_counter\\multi_threading\\worker.py\", line 15, in run\n",
      "    work[0](work[1:])\n",
      "  File \"<ipython-input-7-b574d42d1a69>\", line 2, in process_frame\n",
      "ValueError: not enough values to unpack (expected 2, got 1)\n",
      "Exception in thread Thread-18:\n",
      "Traceback (most recent call last):\n",
      "  File \"c:\\users\\hothi\\appdata\\local\\programs\\python\\python38\\lib\\threading.py\", line 932, in _bootstrap_inner\n",
      "    self.run()\n",
      "  File \"C:\\Users\\hothi\\Documents\\CODE\\INTERNSHIP\\squat_counter\\multi_threading\\worker.py\", line 15, in run\n",
      "    work[0](work[1:])\n",
      "  File \"<ipython-input-7-b574d42d1a69>\", line 2, in process_frame\n",
      "ValueError: not enough values to unpack (expected 2, got 1)\n",
      "Exception in thread Thread-19:\n",
      "Traceback (most recent call last):\n",
      "  File \"c:\\users\\hothi\\appdata\\local\\programs\\python\\python38\\lib\\threading.py\", line 932, in _bootstrap_inner\n",
      "    self.run()\n",
      "  File \"C:\\Users\\hothi\\Documents\\CODE\\INTERNSHIP\\squat_counter\\multi_threading\\worker.py\", line 15, in run\n",
      "    work[0](work[1:])\n",
      "  File \"<ipython-input-7-b574d42d1a69>\", line 2, in process_frame\n",
      "ValueError: not enough values to unpack (expected 2, got 1)\n",
      "Exception in thread Thread-20:\n",
      "Traceback (most recent call last):\n",
      "  File \"c:\\users\\hothi\\appdata\\local\\programs\\python\\python38\\lib\\threading.py\", line 932, in _bootstrap_inner\n",
      "    self.run()\n",
      "  File \"C:\\Users\\hothi\\Documents\\CODE\\INTERNSHIP\\squat_counter\\multi_threading\\worker.py\", line 15, in run\n",
      "    work[0](work[1:])\n",
      "  File \"<ipython-input-7-b574d42d1a69>\", line 2, in process_frame\n",
      "ValueError: not enough values to unpack (expected 2, got 1)\n",
      "Exception in thread Thread-21:\n",
      "Traceback (most recent call last):\n",
      "  File \"c:\\users\\hothi\\appdata\\local\\programs\\python\\python38\\lib\\threading.py\", line 932, in _bootstrap_inner\n",
      "    self.run()\n",
      "  File \"C:\\Users\\hothi\\Documents\\CODE\\INTERNSHIP\\squat_counter\\multi_threading\\worker.py\", line 15, in run\n",
      "    work[0](work[1:])\n",
      "  File \"<ipython-input-7-b574d42d1a69>\", line 2, in process_frame\n",
      "ValueError: not enough values to unpack (expected 2, got 1)\n",
      "Exception in thread Thread-22:\n",
      "Traceback (most recent call last):\n",
      "  File \"c:\\users\\hothi\\appdata\\local\\programs\\python\\python38\\lib\\threading.py\", line 932, in _bootstrap_inner\n",
      "    self.run()\n",
      "  File \"C:\\Users\\hothi\\Documents\\CODE\\INTERNSHIP\\squat_counter\\multi_threading\\worker.py\", line 15, in run\n",
      "    work[0](work[1:])\n",
      "  File \"<ipython-input-7-b574d42d1a69>\", line 2, in process_frame\n",
      "ValueError: not enough values to unpack (expected 2, got 1)\n",
      "Exception in thread Thread-23:\n",
      "Traceback (most recent call last):\n",
      "  File \"c:\\users\\hothi\\appdata\\local\\programs\\python\\python38\\lib\\threading.py\", line 932, in _bootstrap_inner\n",
      "    self.run()\n",
      "  File \"C:\\Users\\hothi\\Documents\\CODE\\INTERNSHIP\\squat_counter\\multi_threading\\worker.py\", line 15, in run\n",
      "    work[0](work[1:])\n",
      "  File \"<ipython-input-7-b574d42d1a69>\", line 2, in process_frame\n",
      "ValueError: not enough values to unpack (expected 2, got 1)\n",
      "Exception in thread Thread-24:\n",
      "Traceback (most recent call last):\n",
      "  File \"c:\\users\\hothi\\appdata\\local\\programs\\python\\python38\\lib\\threading.py\", line 932, in _bootstrap_inner\n"
     ]
    },
    {
     "name": "stderr",
     "output_type": "stream",
     "text": [
      "    self.run()\n",
      "  File \"C:\\Users\\hothi\\Documents\\CODE\\INTERNSHIP\\squat_counter\\multi_threading\\worker.py\", line 15, in run\n",
      "    work[0](work[1:])\n",
      "  File \"<ipython-input-7-b574d42d1a69>\", line 2, in process_frame\n",
      "ValueError: not enough values to unpack (expected 2, got 1)\n",
      "Exception in thread Thread-25:\n",
      "Traceback (most recent call last):\n",
      "  File \"c:\\users\\hothi\\appdata\\local\\programs\\python\\python38\\lib\\threading.py\", line 932, in _bootstrap_inner\n",
      "    self.run()\n",
      "  File \"C:\\Users\\hothi\\Documents\\CODE\\INTERNSHIP\\squat_counter\\multi_threading\\worker.py\", line 15, in run\n",
      "    work[0](work[1:])\n",
      "  File \"<ipython-input-7-b574d42d1a69>\", line 2, in process_frame\n",
      "ValueError: Exception in thread Thread-26:\n",
      "Traceback (most recent call last):\n",
      "  File \"c:\\users\\hothi\\appdata\\local\\programs\\python\\python38\\lib\\threading.py\", line 932, in _bootstrap_inner\n",
      "not enough values to unpack (expected 2, got 1)\n",
      "    self.run()\n",
      "  File \"C:\\Users\\hothi\\Documents\\CODE\\INTERNSHIP\\squat_counter\\multi_threading\\worker.py\", line 15, in run\n",
      "    work[0](work[1:])\n",
      "  File \"<ipython-input-7-b574d42d1a69>\", line 2, in process_frame\n",
      "ValueError: not enough values to unpack (expected 2, got 1)\n",
      "Exception in thread Thread-27:\n",
      "Traceback (most recent call last):\n",
      "  File \"c:\\users\\hothi\\appdata\\local\\programs\\python\\python38\\lib\\threading.py\", line 932, in _bootstrap_inner\n",
      "    self.run()\n",
      "  File \"C:\\Users\\hothi\\Documents\\CODE\\INTERNSHIP\\squat_counter\\multi_threading\\worker.py\", line 15, in run\n",
      "    work[0](work[1:])\n",
      "  File \"<ipython-input-7-b574d42d1a69>\", line 2, in process_frame\n",
      "ValueError: not enough values to unpack (expected 2, got 1)\n",
      "Exception in thread Thread-28:\n",
      "Traceback (most recent call last):\n",
      "  File \"c:\\users\\hothi\\appdata\\local\\programs\\python\\python38\\lib\\threading.py\", line 932, in _bootstrap_inner\n",
      "    self.run()\n",
      "  File \"C:\\Users\\hothi\\Documents\\CODE\\INTERNSHIP\\squat_counter\\multi_threading\\worker.py\", line 15, in run\n",
      "    work[0](work[1:])\n",
      "  File \"<ipython-input-7-b574d42d1a69>\", line 2, in process_frame\n",
      "ValueError: not enough values to unpack (expected 2, got 1)\n",
      "Exception in thread Thread-29:\n",
      "Traceback (most recent call last):\n",
      "  File \"c:\\users\\hothi\\appdata\\local\\programs\\python\\python38\\lib\\threading.py\", line 932, in _bootstrap_inner\n",
      "    self.run()\n",
      "  File \"C:\\Users\\hothi\\Documents\\CODE\\INTERNSHIP\\squat_counter\\multi_threading\\worker.py\", line 15, in run\n",
      "    work[0](work[1:])\n",
      "  File \"<ipython-input-7-b574d42d1a69>\", line 2, in process_frame\n",
      "ValueError: not enough values to unpack (expected 2, got 1)\n"
     ]
    },
    {
     "ename": "Full",
     "evalue": "",
     "output_type": "error",
     "traceback": [
      "\u001b[1;31m---------------------------------------------------------------------------\u001b[0m",
      "\u001b[1;31mFull\u001b[0m                                      Traceback (most recent call last)",
      "\u001b[1;32m<ipython-input-9-10dd15acd5d9>\u001b[0m in \u001b[0;36m<module>\u001b[1;34m\u001b[0m\n\u001b[0;32m      9\u001b[0m \u001b[0mjobs\u001b[0m \u001b[1;33m=\u001b[0m \u001b[0mjob_generator\u001b[0m\u001b[1;33m(\u001b[0m\u001b[1;33m)\u001b[0m\u001b[1;33m\u001b[0m\u001b[1;33m\u001b[0m\u001b[0m\n\u001b[0;32m     10\u001b[0m \u001b[1;32mfor\u001b[0m \u001b[0mjob\u001b[0m \u001b[1;32min\u001b[0m \u001b[0mjobs\u001b[0m\u001b[1;33m:\u001b[0m\u001b[1;33m\u001b[0m\u001b[1;33m\u001b[0m\u001b[0m\n\u001b[1;32m---> 11\u001b[1;33m     \u001b[0mq\u001b[0m\u001b[1;33m.\u001b[0m\u001b[0mput\u001b[0m\u001b[1;33m(\u001b[0m\u001b[0mjob\u001b[0m\u001b[1;33m,\u001b[0m \u001b[0mblock\u001b[0m\u001b[1;33m=\u001b[0m\u001b[1;32mTrue\u001b[0m\u001b[1;33m,\u001b[0m \u001b[0mtimeout\u001b[0m\u001b[1;33m=\u001b[0m\u001b[1;36m10\u001b[0m\u001b[1;33m)\u001b[0m\u001b[1;33m\u001b[0m\u001b[1;33m\u001b[0m\u001b[0m\n\u001b[0m\u001b[0;32m     12\u001b[0m \u001b[1;33m\u001b[0m\u001b[0m\n\u001b[0;32m     13\u001b[0m \u001b[1;33m\u001b[0m\u001b[0m\n",
      "\u001b[1;32mc:\\users\\hothi\\appdata\\local\\programs\\python\\python38\\lib\\queue.py\u001b[0m in \u001b[0;36mput\u001b[1;34m(self, item, block, timeout)\u001b[0m\n\u001b[0;32m    145\u001b[0m                         \u001b[0mremaining\u001b[0m \u001b[1;33m=\u001b[0m \u001b[0mendtime\u001b[0m \u001b[1;33m-\u001b[0m \u001b[0mtime\u001b[0m\u001b[1;33m(\u001b[0m\u001b[1;33m)\u001b[0m\u001b[1;33m\u001b[0m\u001b[1;33m\u001b[0m\u001b[0m\n\u001b[0;32m    146\u001b[0m                         \u001b[1;32mif\u001b[0m \u001b[0mremaining\u001b[0m \u001b[1;33m<=\u001b[0m \u001b[1;36m0.0\u001b[0m\u001b[1;33m:\u001b[0m\u001b[1;33m\u001b[0m\u001b[1;33m\u001b[0m\u001b[0m\n\u001b[1;32m--> 147\u001b[1;33m                             \u001b[1;32mraise\u001b[0m \u001b[0mFull\u001b[0m\u001b[1;33m\u001b[0m\u001b[1;33m\u001b[0m\u001b[0m\n\u001b[0m\u001b[0;32m    148\u001b[0m                         \u001b[0mself\u001b[0m\u001b[1;33m.\u001b[0m\u001b[0mnot_full\u001b[0m\u001b[1;33m.\u001b[0m\u001b[0mwait\u001b[0m\u001b[1;33m(\u001b[0m\u001b[0mremaining\u001b[0m\u001b[1;33m)\u001b[0m\u001b[1;33m\u001b[0m\u001b[1;33m\u001b[0m\u001b[0m\n\u001b[0;32m    149\u001b[0m             \u001b[0mself\u001b[0m\u001b[1;33m.\u001b[0m\u001b[0m_put\u001b[0m\u001b[1;33m(\u001b[0m\u001b[0mitem\u001b[0m\u001b[1;33m)\u001b[0m\u001b[1;33m\u001b[0m\u001b[1;33m\u001b[0m\u001b[0m\n",
      "\u001b[1;31mFull\u001b[0m: "
     ]
    }
   ],
   "source": [
    "q = queue.Queue(48)\n",
    "\n",
    "workers = []\n",
    "for _ in range(24):\n",
    "    worker = Worker(q)\n",
    "    workers.append(worker)\n",
    "    worker.start()\n",
    "\n",
    "jobs = job_generator()\n",
    "for job in jobs:\n",
    "    q.put(job, block=True, timeout=10)\n",
    "\n",
    "\n",
    "for x in workers:\n",
    "    x.join()\n"
   ]
  },
  {
   "cell_type": "code",
   "execution_count": null,
   "id": "burning-sender",
   "metadata": {},
   "outputs": [],
   "source": [
    "video_writer.save()"
   ]
  },
  {
   "cell_type": "code",
   "execution_count": null,
   "id": "wireless-disco",
   "metadata": {},
   "outputs": [],
   "source": []
  },
  {
   "cell_type": "code",
   "execution_count": null,
   "id": "unusual-sunglasses",
   "metadata": {},
   "outputs": [],
   "source": []
  },
  {
   "cell_type": "code",
   "execution_count": null,
   "id": "material-mirror",
   "metadata": {},
   "outputs": [],
   "source": []
  },
  {
   "cell_type": "code",
   "execution_count": null,
   "id": "polyphonic-sensitivity",
   "metadata": {},
   "outputs": [],
   "source": []
  },
  {
   "cell_type": "code",
   "execution_count": null,
   "id": "seasonal-seattle",
   "metadata": {},
   "outputs": [],
   "source": []
  },
  {
   "cell_type": "code",
   "execution_count": null,
   "id": "emerging-cover",
   "metadata": {},
   "outputs": [],
   "source": []
  },
  {
   "cell_type": "code",
   "execution_count": null,
   "id": "general-steal",
   "metadata": {},
   "outputs": [],
   "source": []
  },
  {
   "cell_type": "code",
   "execution_count": null,
   "id": "continent-average",
   "metadata": {},
   "outputs": [],
   "source": []
  },
  {
   "cell_type": "code",
   "execution_count": null,
   "id": "authorized-collect",
   "metadata": {},
   "outputs": [],
   "source": []
  },
  {
   "cell_type": "code",
   "execution_count": null,
   "id": "meaning-slovakia",
   "metadata": {},
   "outputs": [],
   "source": []
  },
  {
   "cell_type": "code",
   "execution_count": null,
   "id": "outside-rainbow",
   "metadata": {},
   "outputs": [],
   "source": []
  },
  {
   "cell_type": "code",
   "execution_count": null,
   "id": "regulation-serve",
   "metadata": {},
   "outputs": [],
   "source": []
  },
  {
   "cell_type": "code",
   "execution_count": null,
   "id": "appropriate-dragon",
   "metadata": {},
   "outputs": [],
   "source": []
  },
  {
   "cell_type": "code",
   "execution_count": 4,
   "id": "periodic-supervisor",
   "metadata": {},
   "outputs": [
    {
     "name": "stderr",
     "output_type": "stream",
     "text": [
      "1969it [00:43, 45.44it/s]\n"
     ]
    },
    {
     "ename": "KeyboardInterrupt",
     "evalue": "",
     "output_type": "error",
     "traceback": [
      "\u001b[1;31m---------------------------------------------------------------------------\u001b[0m",
      "\u001b[1;31mKeyboardInterrupt\u001b[0m                         Traceback (most recent call last)",
      "\u001b[1;32m<ipython-input-4-52aebb453b72>\u001b[0m in \u001b[0;36m<module>\u001b[1;34m\u001b[0m\n\u001b[0;32m     15\u001b[0m \u001b[0mthreads\u001b[0m \u001b[1;33m=\u001b[0m \u001b[1;33m[\u001b[0m\u001b[1;33m]\u001b[0m\u001b[1;33m\u001b[0m\u001b[1;33m\u001b[0m\u001b[0m\n\u001b[0;32m     16\u001b[0m \u001b[0mcount\u001b[0m \u001b[1;33m=\u001b[0m \u001b[1;33m-\u001b[0m\u001b[1;36m1\u001b[0m\u001b[1;33m\u001b[0m\u001b[1;33m\u001b[0m\u001b[0m\n\u001b[1;32m---> 17\u001b[1;33m \u001b[1;32mfor\u001b[0m \u001b[0mframe\u001b[0m \u001b[1;32min\u001b[0m \u001b[0mtqdm\u001b[0m\u001b[1;33m(\u001b[0m\u001b[0mvideo\u001b[0m\u001b[1;33m)\u001b[0m\u001b[1;33m:\u001b[0m\u001b[1;33m\u001b[0m\u001b[1;33m\u001b[0m\u001b[0m\n\u001b[0m\u001b[0;32m     18\u001b[0m     \u001b[0mcount\u001b[0m \u001b[1;33m+=\u001b[0m \u001b[1;36m1\u001b[0m\u001b[1;33m\u001b[0m\u001b[1;33m\u001b[0m\u001b[0m\n\u001b[0;32m     19\u001b[0m     \u001b[0mt\u001b[0m \u001b[1;33m=\u001b[0m \u001b[0mThread\u001b[0m\u001b[1;33m(\u001b[0m\u001b[0mtarget\u001b[0m\u001b[1;33m=\u001b[0m\u001b[0mprocess_frame\u001b[0m\u001b[1;33m,\u001b[0m \u001b[0margs\u001b[0m\u001b[1;33m=\u001b[0m\u001b[1;33m(\u001b[0m\u001b[0mframe\u001b[0m\u001b[1;33m,\u001b[0m \u001b[0mcount\u001b[0m\u001b[1;33m)\u001b[0m\u001b[1;33m)\u001b[0m\u001b[1;33m\u001b[0m\u001b[1;33m\u001b[0m\u001b[0m\n",
      "\u001b[1;32mc:\\users\\hothi\\appdata\\local\\programs\\python\\python38\\lib\\site-packages\\tqdm\\std.py\u001b[0m in \u001b[0;36m__iter__\u001b[1;34m(self)\u001b[0m\n\u001b[0;32m   1164\u001b[0m \u001b[1;33m\u001b[0m\u001b[0m\n\u001b[0;32m   1165\u001b[0m         \u001b[1;32mtry\u001b[0m\u001b[1;33m:\u001b[0m\u001b[1;33m\u001b[0m\u001b[1;33m\u001b[0m\u001b[0m\n\u001b[1;32m-> 1166\u001b[1;33m             \u001b[1;32mfor\u001b[0m \u001b[0mobj\u001b[0m \u001b[1;32min\u001b[0m \u001b[0miterable\u001b[0m\u001b[1;33m:\u001b[0m\u001b[1;33m\u001b[0m\u001b[1;33m\u001b[0m\u001b[0m\n\u001b[0m\u001b[0;32m   1167\u001b[0m                 \u001b[1;32myield\u001b[0m \u001b[0mobj\u001b[0m\u001b[1;33m\u001b[0m\u001b[1;33m\u001b[0m\u001b[0m\n\u001b[0;32m   1168\u001b[0m                 \u001b[1;31m# Update and possibly print the progressbar.\u001b[0m\u001b[1;33m\u001b[0m\u001b[1;33m\u001b[0m\u001b[1;33m\u001b[0m\u001b[0m\n",
      "\u001b[1;32m~\\Documents\\CODE\\INTERNSHIP\\squat_counter\\util\\video_util.py\u001b[0m in \u001b[0;36mread_video\u001b[1;34m(path)\u001b[0m\n\u001b[0;32m      8\u001b[0m \u001b[1;33m\u001b[0m\u001b[0m\n\u001b[0;32m      9\u001b[0m     \u001b[1;32mwhile\u001b[0m\u001b[1;33m(\u001b[0m\u001b[0mvidcap\u001b[0m\u001b[1;33m.\u001b[0m\u001b[0misOpened\u001b[0m\u001b[1;33m(\u001b[0m\u001b[1;33m)\u001b[0m\u001b[1;33m)\u001b[0m\u001b[1;33m:\u001b[0m\u001b[1;33m\u001b[0m\u001b[1;33m\u001b[0m\u001b[0m\n\u001b[1;32m---> 10\u001b[1;33m         \u001b[0mret\u001b[0m\u001b[1;33m,\u001b[0m \u001b[0mframe\u001b[0m \u001b[1;33m=\u001b[0m \u001b[0mvidcap\u001b[0m\u001b[1;33m.\u001b[0m\u001b[0mread\u001b[0m\u001b[1;33m(\u001b[0m\u001b[1;33m)\u001b[0m\u001b[1;33m\u001b[0m\u001b[1;33m\u001b[0m\u001b[0m\n\u001b[0m\u001b[0;32m     11\u001b[0m         \u001b[1;32mif\u001b[0m \u001b[0mret\u001b[0m \u001b[1;33m==\u001b[0m \u001b[1;32mFalse\u001b[0m\u001b[1;33m:\u001b[0m\u001b[1;33m\u001b[0m\u001b[1;33m\u001b[0m\u001b[0m\n\u001b[0;32m     12\u001b[0m             \u001b[1;32mbreak\u001b[0m\u001b[1;33m\u001b[0m\u001b[1;33m\u001b[0m\u001b[0m\n",
      "\u001b[1;31mKeyboardInterrupt\u001b[0m: "
     ]
    }
   ],
   "source": [
    "from threading import Thread\n",
    "\n",
    "video = read_video(input)\n",
    "\n",
    "def process_frame(frame, count):\n",
    "    pose = get_pose(frame)\n",
    "    features = pose.get_normalized_position()\n",
    "    position = model.predict(np.array([features]))\n",
    "    \n",
    "    font = cv2.FONT_HERSHEY_SIMPLEX\n",
    "    cv2.putText(frame, str(position[0]), (100,100), font, 3, (0, 255, 0), 2, cv2.LINE_AA)\n",
    "\n",
    "    cv2.imwrite(f'{output}{count}.jpg', frame)\n",
    "\n",
    "threads = []\n",
    "count = -1\n",
    "for frame in tqdm(video):\n",
    "    count += 1\n",
    "    t = Thread(target=process_frame, args=(frame, count))\n",
    "    t.start()\n",
    "    threads.append(t)\n",
    "\n",
    "# Wait all threads to finish.\n",
    "for t in threads:\n",
    "    t.join()"
   ]
  },
  {
   "cell_type": "code",
   "execution_count": null,
   "id": "pacific-volunteer",
   "metadata": {},
   "outputs": [],
   "source": []
  },
  {
   "cell_type": "code",
   "execution_count": null,
   "id": "different-reward",
   "metadata": {},
   "outputs": [],
   "source": []
  },
  {
   "cell_type": "code",
   "execution_count": null,
   "id": "brave-implement",
   "metadata": {},
   "outputs": [],
   "source": []
  },
  {
   "cell_type": "code",
   "execution_count": null,
   "id": "opening-venture",
   "metadata": {},
   "outputs": [],
   "source": []
  },
  {
   "cell_type": "code",
   "execution_count": null,
   "id": "graduate-parker",
   "metadata": {},
   "outputs": [],
   "source": []
  },
  {
   "cell_type": "code",
   "execution_count": null,
   "id": "expanded-progressive",
   "metadata": {},
   "outputs": [],
   "source": []
  },
  {
   "cell_type": "code",
   "execution_count": null,
   "id": "interpreted-building",
   "metadata": {},
   "outputs": [],
   "source": [
    "import thread\n",
    "\n",
    "video = read_video(input)\n",
    "fps = get_frame_rate(input)\n",
    "dimention = get_dimention(input)\n",
    "video_writer = VideoWriter(output, fps, dimention)\n",
    "\n",
    "count = -1\n",
    "for frame in tqdm(video):\n",
    "    count += 1\n",
    "    pose = get_pose(frame)\n",
    "    features = pose.get_normalized_position()\n",
    "    position = model.predict(np.array([features]))\n",
    "    \n",
    "    font = cv2.FONT_HERSHEY_SIMPLEX\n",
    "    cv2.putText(frame, str(position[0]), (100,100), font, 3, (0, 255, 0), 2, cv2.LINE_AA)\n",
    "\n",
    "    video_writer.add_frame(frame)\n",
    "\n",
    "video_writer.save()"
   ]
  }
 ],
 "metadata": {
  "kernelspec": {
   "display_name": "Python 3",
   "language": "python",
   "name": "python3"
  },
  "language_info": {
   "codemirror_mode": {
    "name": "ipython",
    "version": 3
   },
   "file_extension": ".py",
   "mimetype": "text/x-python",
   "name": "python",
   "nbconvert_exporter": "python",
   "pygments_lexer": "ipython3",
   "version": "3.8.7"
  }
 },
 "nbformat": 4,
 "nbformat_minor": 5
}
