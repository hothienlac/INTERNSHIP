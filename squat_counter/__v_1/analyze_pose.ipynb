{
 "cells": [
  {
   "cell_type": "code",
   "execution_count": 1,
   "id": "fabulous-chicago",
   "metadata": {},
   "outputs": [],
   "source": [
    "import pandas as pd\n",
    "import seaborn as sns\n",
    "from sklearn.model_selection import train_test_split\n",
    "from sklearn.ensemble import RandomForestClassifier"
   ]
  },
  {
   "cell_type": "code",
   "execution_count": 2,
   "id": "trained-editing",
   "metadata": {},
   "outputs": [
    {
     "data": {
      "text/html": [
       "<div>\n",
       "<style scoped>\n",
       "    .dataframe tbody tr th:only-of-type {\n",
       "        vertical-align: middle;\n",
       "    }\n",
       "\n",
       "    .dataframe tbody tr th {\n",
       "        vertical-align: top;\n",
       "    }\n",
       "\n",
       "    .dataframe thead th {\n",
       "        text-align: right;\n",
       "    }\n",
       "</style>\n",
       "<table border=\"1\" class=\"dataframe\">\n",
       "  <thead>\n",
       "    <tr style=\"text-align: right;\">\n",
       "      <th></th>\n",
       "      <th>position</th>\n",
       "      <th>leftShoulder_x</th>\n",
       "      <th>rightShoulder_x</th>\n",
       "      <th>leftHip_x</th>\n",
       "      <th>rightHip_x</th>\n",
       "      <th>leftKnee_x</th>\n",
       "      <th>rightKnee_x</th>\n",
       "      <th>leftAnkle_x</th>\n",
       "      <th>rightAnkle_x</th>\n",
       "      <th>leftShoulder_y</th>\n",
       "      <th>...</th>\n",
       "      <th>leftHip_y</th>\n",
       "      <th>rightHip_y</th>\n",
       "      <th>leftKnee_y</th>\n",
       "      <th>rightKnee_y</th>\n",
       "      <th>leftAnkle_y</th>\n",
       "      <th>rightAnkle_y</th>\n",
       "      <th>leftHipAngle</th>\n",
       "      <th>rightHipAngle</th>\n",
       "      <th>leftKneeAngle</th>\n",
       "      <th>rightKneeAngle</th>\n",
       "    </tr>\n",
       "  </thead>\n",
       "  <tbody>\n",
       "    <tr>\n",
       "      <th>0</th>\n",
       "      <td>0.0</td>\n",
       "      <td>0.143992</td>\n",
       "      <td>0.303207</td>\n",
       "      <td>-0.476427</td>\n",
       "      <td>-0.336312</td>\n",
       "      <td>-0.235662</td>\n",
       "      <td>0.473728</td>\n",
       "      <td>0.016247</td>\n",
       "      <td>0.476427</td>\n",
       "      <td>-1.000000</td>\n",
       "      <td>...</td>\n",
       "      <td>0.224391</td>\n",
       "      <td>0.248614</td>\n",
       "      <td>0.156556</td>\n",
       "      <td>0.094750</td>\n",
       "      <td>1.000000</td>\n",
       "      <td>0.579086</td>\n",
       "      <td>0.827162</td>\n",
       "      <td>0.905449</td>\n",
       "      <td>1.586401</td>\n",
       "      <td>1.388659</td>\n",
       "    </tr>\n",
       "    <tr>\n",
       "      <th>1</th>\n",
       "      <td>0.0</td>\n",
       "      <td>0.143497</td>\n",
       "      <td>0.343150</td>\n",
       "      <td>-0.568566</td>\n",
       "      <td>-0.403621</td>\n",
       "      <td>-0.249856</td>\n",
       "      <td>0.568566</td>\n",
       "      <td>-0.096104</td>\n",
       "      <td>0.472919</td>\n",
       "      <td>-1.000000</td>\n",
       "      <td>...</td>\n",
       "      <td>0.308462</td>\n",
       "      <td>0.329587</td>\n",
       "      <td>0.105658</td>\n",
       "      <td>0.143673</td>\n",
       "      <td>1.000000</td>\n",
       "      <td>0.627890</td>\n",
       "      <td>0.505715</td>\n",
       "      <td>0.864002</td>\n",
       "      <td>1.174345</td>\n",
       "      <td>1.186827</td>\n",
       "    </tr>\n",
       "    <tr>\n",
       "      <th>2</th>\n",
       "      <td>0.0</td>\n",
       "      <td>0.230535</td>\n",
       "      <td>0.258588</td>\n",
       "      <td>-0.458696</td>\n",
       "      <td>-0.049885</td>\n",
       "      <td>0.216491</td>\n",
       "      <td>0.332814</td>\n",
       "      <td>-0.370720</td>\n",
       "      <td>0.458696</td>\n",
       "      <td>-0.955427</td>\n",
       "      <td>...</td>\n",
       "      <td>0.100984</td>\n",
       "      <td>0.087740</td>\n",
       "      <td>0.040475</td>\n",
       "      <td>0.057003</td>\n",
       "      <td>1.000000</td>\n",
       "      <td>0.638950</td>\n",
       "      <td>0.903337</td>\n",
       "      <td>1.214315</td>\n",
       "      <td>0.932234</td>\n",
       "      <td>1.703680</td>\n",
       "    </tr>\n",
       "    <tr>\n",
       "      <th>3</th>\n",
       "      <td>0.0</td>\n",
       "      <td>0.274612</td>\n",
       "      <td>0.612614</td>\n",
       "      <td>-0.612614</td>\n",
       "      <td>-0.372658</td>\n",
       "      <td>-0.331610</td>\n",
       "      <td>0.467024</td>\n",
       "      <td>-0.603502</td>\n",
       "      <td>0.472046</td>\n",
       "      <td>-1.000000</td>\n",
       "      <td>...</td>\n",
       "      <td>0.172408</td>\n",
       "      <td>0.180013</td>\n",
       "      <td>-0.089967</td>\n",
       "      <td>0.243998</td>\n",
       "      <td>0.977664</td>\n",
       "      <td>1.000000</td>\n",
       "      <td>0.171858</td>\n",
       "      <td>0.950162</td>\n",
       "      <td>0.570300</td>\n",
       "      <td>1.653494</td>\n",
       "    </tr>\n",
       "    <tr>\n",
       "      <th>4</th>\n",
       "      <td>0.0</td>\n",
       "      <td>0.147475</td>\n",
       "      <td>0.452482</td>\n",
       "      <td>-0.452482</td>\n",
       "      <td>-0.353196</td>\n",
       "      <td>0.042388</td>\n",
       "      <td>0.412348</td>\n",
       "      <td>-0.420609</td>\n",
       "      <td>-0.280463</td>\n",
       "      <td>-1.000000</td>\n",
       "      <td>...</td>\n",
       "      <td>-0.181901</td>\n",
       "      <td>-0.180245</td>\n",
       "      <td>0.198384</td>\n",
       "      <td>0.403615</td>\n",
       "      <td>0.977316</td>\n",
       "      <td>1.000000</td>\n",
       "      <td>1.593241</td>\n",
       "      <td>1.432979</td>\n",
       "      <td>1.689713</td>\n",
       "      <td>1.362304</td>\n",
       "    </tr>\n",
       "  </tbody>\n",
       "</table>\n",
       "<p>5 rows × 21 columns</p>\n",
       "</div>"
      ],
      "text/plain": [
       "   position  leftShoulder_x  rightShoulder_x  leftHip_x  rightHip_x  \\\n",
       "0       0.0        0.143992         0.303207  -0.476427   -0.336312   \n",
       "1       0.0        0.143497         0.343150  -0.568566   -0.403621   \n",
       "2       0.0        0.230535         0.258588  -0.458696   -0.049885   \n",
       "3       0.0        0.274612         0.612614  -0.612614   -0.372658   \n",
       "4       0.0        0.147475         0.452482  -0.452482   -0.353196   \n",
       "\n",
       "   leftKnee_x  rightKnee_x  leftAnkle_x  rightAnkle_x  leftShoulder_y  ...  \\\n",
       "0   -0.235662     0.473728     0.016247      0.476427       -1.000000  ...   \n",
       "1   -0.249856     0.568566    -0.096104      0.472919       -1.000000  ...   \n",
       "2    0.216491     0.332814    -0.370720      0.458696       -0.955427  ...   \n",
       "3   -0.331610     0.467024    -0.603502      0.472046       -1.000000  ...   \n",
       "4    0.042388     0.412348    -0.420609     -0.280463       -1.000000  ...   \n",
       "\n",
       "   leftHip_y  rightHip_y  leftKnee_y  rightKnee_y  leftAnkle_y  rightAnkle_y  \\\n",
       "0   0.224391    0.248614    0.156556     0.094750     1.000000      0.579086   \n",
       "1   0.308462    0.329587    0.105658     0.143673     1.000000      0.627890   \n",
       "2   0.100984    0.087740    0.040475     0.057003     1.000000      0.638950   \n",
       "3   0.172408    0.180013   -0.089967     0.243998     0.977664      1.000000   \n",
       "4  -0.181901   -0.180245    0.198384     0.403615     0.977316      1.000000   \n",
       "\n",
       "   leftHipAngle  rightHipAngle  leftKneeAngle  rightKneeAngle  \n",
       "0      0.827162       0.905449       1.586401        1.388659  \n",
       "1      0.505715       0.864002       1.174345        1.186827  \n",
       "2      0.903337       1.214315       0.932234        1.703680  \n",
       "3      0.171858       0.950162       0.570300        1.653494  \n",
       "4      1.593241       1.432979       1.689713        1.362304  \n",
       "\n",
       "[5 rows x 21 columns]"
      ]
     },
     "execution_count": 2,
     "metadata": {},
     "output_type": "execute_result"
    }
   ],
   "source": [
    "DATA_PATH = './data/combined/data.csv'\n",
    "\n",
    "data = pd.read_csv(DATA_PATH)\n",
    "data.head()"
   ]
  },
  {
   "cell_type": "code",
   "execution_count": 3,
   "id": "valued-enhancement",
   "metadata": {},
   "outputs": [],
   "source": [
    "features = list(data.columns.values)\n",
    "features.remove('position')\n",
    "\n",
    "X = data[features]\n",
    "y = data['position']\n",
    "\n",
    "X_train, X_test, y_train, y_test = train_test_split(X, y, test_size=0.2)"
   ]
  },
  {
   "cell_type": "code",
   "execution_count": 49,
   "id": "extra-safety",
   "metadata": {},
   "outputs": [],
   "source": [
    "model = RandomForestClassifier(n_estimators=200, criterion='entropy', random_state = 0)"
   ]
  },
  {
   "cell_type": "code",
   "execution_count": 50,
   "id": "hawaiian-connectivity",
   "metadata": {},
   "outputs": [
    {
     "data": {
      "text/plain": [
       "RandomForestClassifier(criterion='entropy', n_estimators=200, random_state=0)"
      ]
     },
     "execution_count": 50,
     "metadata": {},
     "output_type": "execute_result"
    }
   ],
   "source": [
    "model.fit(X_train, y_train)"
   ]
  },
  {
   "cell_type": "code",
   "execution_count": 51,
   "id": "narrative-piece",
   "metadata": {},
   "outputs": [],
   "source": [
    "y_pred = model.predict(X_test)"
   ]
  },
  {
   "cell_type": "code",
   "execution_count": 52,
   "id": "similar-parallel",
   "metadata": {},
   "outputs": [
    {
     "data": {
      "text/plain": [
       "array([[101,   2,   6],\n",
       "       [  8,  34,  10],\n",
       "       [  0,   3, 197]], dtype=int64)"
      ]
     },
     "execution_count": 52,
     "metadata": {},
     "output_type": "execute_result"
    }
   ],
   "source": [
    "from sklearn.metrics import confusion_matrix\n",
    "cm = confusion_matrix(y_test, y_pred)\n",
    "cm"
   ]
  },
  {
   "cell_type": "code",
   "execution_count": 53,
   "id": "secret-pressing",
   "metadata": {},
   "outputs": [
    {
     "data": {
      "text/plain": [
       "0.9196675900277008"
      ]
     },
     "execution_count": 53,
     "metadata": {},
     "output_type": "execute_result"
    }
   ],
   "source": [
    "model.score(X_test, y_test)"
   ]
  },
  {
   "cell_type": "code",
   "execution_count": null,
   "id": "lined-cricket",
   "metadata": {},
   "outputs": [],
   "source": []
  }
 ],
 "metadata": {
  "kernelspec": {
   "display_name": "Python 3",
   "language": "python",
   "name": "python3"
  },
  "language_info": {
   "codemirror_mode": {
    "name": "ipython",
    "version": 3
   },
   "file_extension": ".py",
   "mimetype": "text/x-python",
   "name": "python",
   "nbconvert_exporter": "python",
   "pygments_lexer": "ipython3",
   "version": "3.8.7"
  }
 },
 "nbformat": 4,
 "nbformat_minor": 5
}
